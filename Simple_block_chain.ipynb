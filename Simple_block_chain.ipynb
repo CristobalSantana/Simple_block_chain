{
 "cells": [
  {
   "cell_type": "markdown",
   "id": "7ab3a41c",
   "metadata": {},
   "source": [
    "# Titulo: Block chain simple\n",
    "\n",
    "### Objetivo:  \n",
    "Crear un sistema Blockchain simple escrito en Python.\n",
    "\n",
    "### Descripción:\n",
    "\n",
    "En la elaboración de este BlockChain, no se usó JSON sino listas de Python. Esto nos permitirá simplificar el proceso y centrarnos en aplicar los conceptos clave de Blockchain.\n"
   ]
  },
  {
   "cell_type": "code",
   "execution_count": 1,
   "id": "a08d843d",
   "metadata": {},
   "outputs": [],
   "source": [
    "import hashlib"
   ]
  },
  {
   "cell_type": "code",
   "execution_count": 2,
   "id": "2885c6dd",
   "metadata": {},
   "outputs": [],
   "source": [
    "class CoinBlock:\n",
    "    \n",
    "    def __init__(self, previous_block_hash: str , transaction_list: str ) -> None:\n",
    "        \"\"\"\n",
    "        Se usa hexdigest() para devolver los datos codificados en formato hexadecimal.\n",
    "        Se almacena previous_block_hash (hash anterior) y la lista de transacciones y creamos una variable de instancia \n",
    "        block_data como una cadena.\n",
    "        Se crea el block_hash, que otros bloques usarán para continuar la cadena.\n",
    "        Aquí es donde hashlib resulta útil; en lugar de crear una función hash personalizada, podemos usar el sha256 \n",
    "        preconstruido para hacer bloques inmutables.\n",
    "\n",
    "        Parameters\n",
    "        ----------\n",
    "        previous_block_hash : str\n",
    "            Bloque anterior perteneciente a chain[].\n",
    "        transaction_list : list\n",
    "            Lista de Transacciones.\n",
    "\n",
    "        Returns\n",
    "        -------\n",
    "        None\n",
    "            Da las transacciones y la conversión de transacciones a hexagesimal.\n",
    "\n",
    "        \"\"\"\n",
    "\n",
    "        self.previous_block_hash = previous_block_hash\n",
    "        self.transaction_list = transaction_list\n",
    "        \n",
    "        self.block_data = f\"{' - '.join(transaction_list)} - {previous_block_hash}\"\n",
    "        self.block_hash = hashlib.sha256(self.block_data.encode()).hexdigest()\n",
    "        "
   ]
  },
  {
   "cell_type": "code",
   "execution_count": 3,
   "id": "b654e086",
   "metadata": {},
   "outputs": [],
   "source": [
    "class Blockchain:\n",
    "    def __init__(self) -> None :\n",
    "        \"\"\"\n",
    "        Agrega la génesis o el primer bloque a la cadena. El hash anterior del bloque es \"0\", y la lista de \n",
    "        transacciones es simplemente \"Bloque Génesis\".\n",
    "\n",
    "\n",
    "        Returns\n",
    "        -------\n",
    "        None\n",
    "            Crea la lista chain[] y llama al método generate_genesis_block.\n",
    "\n",
    "        \"\"\"\n",
    "        self.chain = []\n",
    "        self.generate_genesis_block()\n",
    "\n",
    "    def generate_genesis_block(self) -> None:\n",
    "        \"\"\"\n",
    "        Agrega el primer elemento, el elemento inicial, a chain[], siendo este el \n",
    "        generado por la clase CoinBlock(\"0\", ['Genesis Block']).\n",
    "        \n",
    "\n",
    "        Returns\n",
    "        -------\n",
    "        None\n",
    "           Agrega lo generado a la lista chain[]\n",
    "\n",
    "        \"\"\"\n",
    "        self.chain.append(CoinBlock(\"0\", ['Genesis Block']))\n",
    "\n",
    "    \n",
    "    def create_block_from_transaction(self, transaction_list : str) -> None:\n",
    "        \"\"\"\n",
    "        Nos permite agregar bloques a la cadena con solo una lista de transacciones.\n",
    "\n",
    "        Parameters\n",
    "        ----------\n",
    "        transaction_list : str\n",
    "            Transacción ejecutada.\n",
    "\n",
    "        Returns\n",
    "        -------\n",
    "        None\n",
    "            Agrega a chain[] las transacciones junto con los bloques de hash.\n",
    "\n",
    "        \"\"\"\n",
    "        previous_block_hash = self.last_block.block_hash\n",
    "        self.chain.append(CoinBlock(previous_block_hash, transaction_list))\n",
    "\n",
    "    def display_chain(self) -> str :\n",
    "        \"\"\"\n",
    "        Muestra los resultados que están en chain.\n",
    "\n",
    "        Returns\n",
    "        -------\n",
    "        str\n",
    "            Print de la cadena de bloques con un bucle for.\n",
    "\n",
    "        \"\"\"\n",
    "        for i in range(len(self.chain)):\n",
    "            print(f\"Data {i + 1}: {self.chain[i].block_data}\")\n",
    "            print(f\"Hash {i + 1}: {self.chain[i].block_hash}\\n\")\n",
    "\n",
    "    @property\n",
    "    def last_block(self)-> str: \n",
    "        \"\"\"\n",
    "        \n",
    "\n",
    "        Returns\n",
    "        -------\n",
    "        str\n",
    "            Último elemento de la lista.\n",
    "\n",
    "        \"\"\"\n",
    "        return self.chain[-1]"
   ]
  },
  {
   "cell_type": "markdown",
   "id": "2fbedc5d",
   "metadata": {},
   "source": [
    "### Se agregan transacciones"
   ]
  },
  {
   "cell_type": "code",
   "execution_count": 4,
   "id": "32ec9ced",
   "metadata": {},
   "outputs": [],
   "source": [
    "t1 = \"George sends 3.1 GC to Joe\"\n",
    "t2 = \"Joe sends 2.5 GC to Adam\"\n",
    "t3 = \"Adam sends 1.2 GC to Bob\"\n",
    "t4 = \"Bob sends 0.5 GC to Charlie\"\n",
    "t5 = \"Charlie sends 0.2 GC to David\"\n",
    "t6 = \"David sends 0.1 GC to Eric\""
   ]
  },
  {
   "cell_type": "markdown",
   "id": "aa05cea2",
   "metadata": {},
   "source": [
    "### Se llama a la clase Blockchain() como instancia myblockchain"
   ]
  },
  {
   "cell_type": "code",
   "execution_count": 8,
   "id": "ff848106",
   "metadata": {},
   "outputs": [],
   "source": [
    "myblockchain = Blockchain()"
   ]
  },
  {
   "cell_type": "markdown",
   "id": "e4c673af",
   "metadata": {},
   "source": [
    "### Se llama al método create_block_from_transaction de la clase myblockchain, para que se guarden las transacciones "
   ]
  },
  {
   "cell_type": "code",
   "execution_count": 9,
   "id": "bb7b0f0d",
   "metadata": {},
   "outputs": [],
   "source": [
    "myblockchain.create_block_from_transaction([t1, t2])\n",
    "myblockchain.create_block_from_transaction([t3, t4])\n",
    "myblockchain.create_block_from_transaction([t5, t6])"
   ]
  },
  {
   "cell_type": "markdown",
   "id": "25a578ce",
   "metadata": {},
   "source": [
    "### Muestra los block chain"
   ]
  },
  {
   "cell_type": "code",
   "execution_count": 10,
   "id": "90c8447e",
   "metadata": {},
   "outputs": [
    {
     "name": "stdout",
     "output_type": "stream",
     "text": [
      "Data 1: Genesis Block - 0\n",
      "Hash 1: 39331a6a2ea1cf31a5014b2a7c9e8dfad82df0b0666e81ce04cf8173cc5aed3e\n",
      "\n",
      "Data 2: George sends 3.1 GC to Joe - Joe sends 2.5 GC to Adam - 39331a6a2ea1cf31a5014b2a7c9e8dfad82df0b0666e81ce04cf8173cc5aed3e\n",
      "Hash 2: 98cf363aecb33989aea0425a3c1287268bd86f63851bc08c0734a31db08506d5\n",
      "\n",
      "Data 3: Adam sends 1.2 GC to Bob - Bob sends 0.5 GC to Charlie - 98cf363aecb33989aea0425a3c1287268bd86f63851bc08c0734a31db08506d5\n",
      "Hash 3: 6f1cfcc3082488b97db8fdf8ed33f9ac7519be3e285a37a6fcc2f1904f373589\n",
      "\n",
      "Data 4: Charlie sends 0.2 GC to David - David sends 0.1 GC to Eric - 6f1cfcc3082488b97db8fdf8ed33f9ac7519be3e285a37a6fcc2f1904f373589\n",
      "Hash 4: 869df2f03c9860767d35b30a46233fbeea89a3000ae5019d1491e3829d1ab929\n",
      "\n"
     ]
    }
   ],
   "source": [
    "myblockchain.display_chain()"
   ]
  },
  {
   "cell_type": "code",
   "execution_count": null,
   "id": "9366db31",
   "metadata": {},
   "outputs": [],
   "source": []
  }
 ],
 "metadata": {
  "kernelspec": {
   "display_name": "Python 3 (ipykernel)",
   "language": "python",
   "name": "python3"
  },
  "language_info": {
   "codemirror_mode": {
    "name": "ipython",
    "version": 3
   },
   "file_extension": ".py",
   "mimetype": "text/x-python",
   "name": "python",
   "nbconvert_exporter": "python",
   "pygments_lexer": "ipython3",
   "version": "3.7.6"
  }
 },
 "nbformat": 4,
 "nbformat_minor": 5
}
